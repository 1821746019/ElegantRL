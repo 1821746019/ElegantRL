{
  "cells": [
    {
      "cell_type": "markdown",
      "metadata": {
        "id": "c1gUG3OCJ5GS"
      },
      "source": [
        "# **Pendulum-v1 Example in ElegantRL-HelloWorld**\n",
        "\n",
        "\n",
        "\n",
        "\n"
      ]
    },
    {
      "cell_type": "markdown",
      "metadata": {
        "id": "DbamGVHC3AeW"
      },
      "source": [
        "# **Part 1: Install ElegantRL**"
      ]
    },
    {
      "cell_type": "markdown",
      "metadata": {
        "id": "3n8zcgcn14uq"
      },
      "source": [
        "# **Part 2: Specify Environment and Agent**\n",
        "\n",
        "*   **agent**: chooses a agent (DRL algorithm) from a set of agents in the [directory](https://github.com/AI4Finance-Foundation/ElegantRL/tree/master/elegantrl/agents).\n",
        "*   **env**: creates an environment for your agent.\n"
      ]
    },
    {
      "cell_type": "code",
      "execution_count": 5,
      "metadata": {
        "id": "1eyRQkk9pkBf"
      },
      "outputs": [],
      "source": [
        "import gymnasium as gym\n",
        "import os"
      ]
    },
    {
      "cell_type": "code",
      "execution_count": 6,
      "metadata": {
        "id": "E03f6cTeajK4"
      },
      "outputs": [],
      "source": [
        "from elegantrl.train.config import Config\n",
        "from elegantrl.agents.AgentPPO import AgentPPO\n",
        "\n",
        "env = gym.make\n",
        "\n",
        "env_args = {\n",
        "    \"id\": \"CartPole-v1\",\n",
        "    \"env_name\": \"CartPole-v1\",\n",
        "    \"num_envs\": 1,\n",
        "    \"max_step\": 1000,\n",
        "    \"state_dim\": 3,\n",
        "    \"action_dim\": 1,\n",
        "    \"if_discrete\": True,\n",
        "    \"reward_scale\": 2**-1,\n",
        "    \"gpu_id\": 0, # if you have GPU\n",
        "}\n",
        "args = Config(AgentPPO, env_class=env, env_args=env_args)"
      ]
    },
    {
      "cell_type": "markdown",
      "metadata": {
        "id": "rcFcUkwfzHLE"
      },
      "source": [
        "# **Part 3: Specify hyper-parameters**\n",
        "A list of hyper-parameters is available [here](https://elegantrl.readthedocs.io/en/latest/api/config.html)."
      ]
    },
    {
      "cell_type": "code",
      "execution_count": 7,
      "metadata": {
        "id": "9WCAcmIfzGyE"
      },
      "outputs": [],
      "source": [
        "args.max_step = 1000\n",
        "args.reward_scale = 2**-1  # RewardRange: -1800 < -200 < -50 < 0\n",
        "args.gamma = 0.97\n",
        "args.target_step = args.max_step\n",
        "args.eval_times = 2**3\n",
        "args.num_workers=24 #rollout, improve gpu utilization\n",
        "args.num_threads=2\n",
        "# args.cwd=\"\"\n",
        "\n",
        "# args.learner_gpu_ids=[0,1]"
      ]
    },
    {
      "cell_type": "markdown",
      "metadata": {
        "id": "z1j5kLHF2dhJ"
      },
      "source": [
        "# **Part 4: Train and Evaluate the Agent**\n",
        "\n",
        "\n",
        "\n",
        "\n"
      ]
    },
    {
      "cell_type": "code",
      "execution_count": 4,
      "metadata": {
        "colab": {
          "base_uri": "https://localhost:8080/"
        },
        "id": "KGOPSD6da23k",
        "outputId": "fd200e35-217c-41d6-b01c-e4a8a535840c"
      },
      "outputs": [
        {
          "name": "stdout",
          "output_type": "stream",
          "text": [
            "| train_agent_multiprocessing() with GPU_ID 0\n",
            "| Arguments Remove cwd: ./run\n",
            "| Evaluator:\n",
            "| `step`: Number of samples, or total training steps, or running times of `env.step()`.\n",
            "| `time`: Time spent from the start of training to this moment.\n",
            "| `avgR`: Average value of cumulative rewards, which is the sum of rewards in an episode.\n",
            "| `stdR`: Standard dev of cumulative rewards, which is the sum of rewards in an episode.\n",
            "| `avgS`: Average of steps in an episode.\n",
            "| `objC`: Objective of Critic network. Or call it loss function of critic network.\n",
            "| `objA`: Objective of Actor network. It is the average Q value of the critic network.\n",
            "################################################################################\n",
            "ID     Step    Time |    avgR   stdR   avgS  stdS |    expR   objC   objA   etc.\n"
          ]
        },
        {
          "name": "stderr",
          "output_type": "stream",
          "text": [
            "Process Worker-10:\n",
            "Traceback (most recent call last):\n",
            "  File \"/opt/conda/lib/python3.10/multiprocessing/process.py\", line 314, in _bootstrap\n",
            "    self.run()\n",
            "  File \"/kaggle/working/project/third_party/ElegantRL/elegantrl/train/run.py\", line 385, in run\n",
            "    assert state.shape == (args.state_dim,)\n",
            "AssertionError\n",
            "Process Worker-25:\n",
            "Traceback (most recent call last):\n",
            "  File \"/opt/conda/lib/python3.10/multiprocessing/process.py\", line 314, in _bootstrap\n",
            "    self.run()\n",
            "  File \"/kaggle/working/project/third_party/ElegantRL/elegantrl/train/run.py\", line 385, in run\n",
            "    assert state.shape == (args.state_dim,)\n",
            "AssertionError\n",
            "Process Worker-7:\n",
            "Traceback (most recent call last):\n",
            "  File \"/opt/conda/lib/python3.10/multiprocessing/process.py\", line 314, in _bootstrap\n",
            "    self.run()\n",
            "  File \"/kaggle/working/project/third_party/ElegantRL/elegantrl/train/run.py\", line 385, in run\n",
            "    assert state.shape == (args.state_dim,)\n",
            "AssertionError\n",
            "Process Worker-13:\n",
            "Traceback (most recent call last):\n",
            "  File \"/opt/conda/lib/python3.10/multiprocessing/process.py\", line 314, in _bootstrap\n",
            "    self.run()\n",
            "  File \"/kaggle/working/project/third_party/ElegantRL/elegantrl/train/run.py\", line 385, in run\n",
            "    assert state.shape == (args.state_dim,)\n",
            "AssertionError\n",
            "Process Worker-6:\n",
            "Traceback (most recent call last):\n",
            "  File \"/opt/conda/lib/python3.10/multiprocessing/process.py\", line 314, in _bootstrap\n",
            "    self.run()\n",
            "  File \"/kaggle/working/project/third_party/ElegantRL/elegantrl/train/run.py\", line 385, in run\n",
            "    assert state.shape == (args.state_dim,)\n",
            "AssertionError\n",
            "Process Worker-16:\n",
            "Process Worker-3:\n",
            "Traceback (most recent call last):\n",
            "Traceback (most recent call last):\n",
            "  File \"/opt/conda/lib/python3.10/multiprocessing/process.py\", line 314, in _bootstrap\n",
            "    self.run()\n",
            "  File \"/kaggle/working/project/third_party/ElegantRL/elegantrl/train/run.py\", line 385, in run\n",
            "    assert state.shape == (args.state_dim,)\n",
            "AssertionError\n",
            "  File \"/opt/conda/lib/python3.10/multiprocessing/process.py\", line 314, in _bootstrap\n",
            "    self.run()\n",
            "  File \"/kaggle/working/project/third_party/ElegantRL/elegantrl/train/run.py\", line 385, in run\n",
            "    assert state.shape == (args.state_dim,)\n",
            "AssertionError\n",
            "Process Worker-8:\n",
            "Traceback (most recent call last):\n",
            "  File \"/opt/conda/lib/python3.10/multiprocessing/process.py\", line 314, in _bootstrap\n",
            "    self.run()\n",
            "  File \"/kaggle/working/project/third_party/ElegantRL/elegantrl/train/run.py\", line 385, in run\n",
            "    assert state.shape == (args.state_dim,)\n",
            "AssertionError\n",
            "Process Worker-2:\n",
            "Traceback (most recent call last):\n",
            "  File \"/opt/conda/lib/python3.10/multiprocessing/process.py\", line 314, in _bootstrap\n",
            "    self.run()\n",
            "  File \"/kaggle/working/project/third_party/ElegantRL/elegantrl/train/run.py\", line 385, in run\n",
            "    assert state.shape == (args.state_dim,)\n",
            "AssertionError\n",
            "Process Worker-9:\n",
            "Traceback (most recent call last):\n",
            "  File \"/opt/conda/lib/python3.10/multiprocessing/process.py\", line 314, in _bootstrap\n",
            "    self.run()\n",
            "  File \"/kaggle/working/project/third_party/ElegantRL/elegantrl/train/run.py\", line 385, in run\n",
            "    assert state.shape == (args.state_dim,)\n",
            "AssertionError\n",
            "Process Worker-22:\n",
            "Traceback (most recent call last):\n",
            "  File \"/opt/conda/lib/python3.10/multiprocessing/process.py\", line 314, in _bootstrap\n",
            "    self.run()\n",
            "  File \"/kaggle/working/project/third_party/ElegantRL/elegantrl/train/run.py\", line 385, in run\n",
            "    assert state.shape == (args.state_dim,)\n",
            "AssertionError\n",
            "Process Worker-15:\n",
            "Traceback (most recent call last):\n",
            "  File \"/opt/conda/lib/python3.10/multiprocessing/process.py\", line 314, in _bootstrap\n",
            "    self.run()\n",
            "  File \"/kaggle/working/project/third_party/ElegantRL/elegantrl/train/run.py\", line 385, in run\n",
            "    assert state.shape == (args.state_dim,)\n",
            "AssertionError\n",
            "Process Worker-5:\n",
            "Traceback (most recent call last):\n",
            "  File \"/opt/conda/lib/python3.10/multiprocessing/process.py\", line 314, in _bootstrap\n",
            "    self.run()\n",
            "  File \"/kaggle/working/project/third_party/ElegantRL/elegantrl/train/run.py\", line 385, in run\n",
            "    assert state.shape == (args.state_dim,)\n",
            "AssertionError\n",
            "Process Worker-4:\n",
            "Process Worker-19:\n",
            "Traceback (most recent call last):\n",
            "  File \"/opt/conda/lib/python3.10/multiprocessing/process.py\", line 314, in _bootstrap\n",
            "    self.run()\n",
            "  File \"/kaggle/working/project/third_party/ElegantRL/elegantrl/train/run.py\", line 385, in run\n",
            "    assert state.shape == (args.state_dim,)\n",
            "AssertionError\n",
            "Traceback (most recent call last):\n",
            "  File \"/opt/conda/lib/python3.10/multiprocessing/process.py\", line 314, in _bootstrap\n",
            "    self.run()\n",
            "  File \"/kaggle/working/project/third_party/ElegantRL/elegantrl/train/run.py\", line 385, in run\n",
            "    assert state.shape == (args.state_dim,)\n",
            "AssertionError\n",
            "Process Worker-21:\n",
            "Traceback (most recent call last):\n",
            "  File \"/opt/conda/lib/python3.10/multiprocessing/process.py\", line 314, in _bootstrap\n",
            "    self.run()\n",
            "  File \"/kaggle/working/project/third_party/ElegantRL/elegantrl/train/run.py\", line 385, in run\n",
            "    assert state.shape == (args.state_dim,)\n",
            "AssertionError\n",
            "Process Worker-24:\n",
            "Traceback (most recent call last):\n",
            "  File \"/opt/conda/lib/python3.10/multiprocessing/process.py\", line 314, in _bootstrap\n",
            "    self.run()\n",
            "  File \"/kaggle/working/project/third_party/ElegantRL/elegantrl/train/run.py\", line 385, in run\n",
            "    assert state.shape == (args.state_dim,)\n",
            "AssertionError\n",
            "Process Worker-11:\n",
            "Traceback (most recent call last):\n",
            "  File \"/opt/conda/lib/python3.10/multiprocessing/process.py\", line 314, in _bootstrap\n",
            "    self.run()\n",
            "  File \"/kaggle/working/project/third_party/ElegantRL/elegantrl/train/run.py\", line 385, in run\n",
            "    assert state.shape == (args.state_dim,)\n",
            "AssertionError\n",
            "Process Worker-17:\n",
            "Traceback (most recent call last):\n",
            "  File \"/opt/conda/lib/python3.10/multiprocessing/process.py\", line 314, in _bootstrap\n",
            "    self.run()\n",
            "  File \"/kaggle/working/project/third_party/ElegantRL/elegantrl/train/run.py\", line 385, in run\n",
            "    assert state.shape == (args.state_dim,)\n",
            "AssertionError\n",
            "Process Worker-12:\n",
            "Traceback (most recent call last):\n",
            "  File \"/opt/conda/lib/python3.10/multiprocessing/process.py\", line 314, in _bootstrap\n",
            "    self.run()\n",
            "  File \"/kaggle/working/project/third_party/ElegantRL/elegantrl/train/run.py\", line 385, in run\n",
            "    assert state.shape == (args.state_dim,)\n",
            "AssertionError\n",
            "Process Worker-14:\n",
            "Traceback (most recent call last):\n",
            "  File \"/opt/conda/lib/python3.10/multiprocessing/process.py\", line 314, in _bootstrap\n",
            "    self.run()\n",
            "  File \"/kaggle/working/project/third_party/ElegantRL/elegantrl/train/run.py\", line 385, in run\n",
            "    assert state.shape == (args.state_dim,)\n",
            "AssertionError\n",
            "Process Worker-23:\n",
            "Traceback (most recent call last):\n",
            "  File \"/opt/conda/lib/python3.10/multiprocessing/process.py\", line 314, in _bootstrap\n",
            "    self.run()\n",
            "  File \"/kaggle/working/project/third_party/ElegantRL/elegantrl/train/run.py\", line 385, in run\n",
            "    assert state.shape == (args.state_dim,)\n",
            "AssertionError\n",
            "Process Worker-18:\n",
            "Traceback (most recent call last):\n",
            "  File \"/opt/conda/lib/python3.10/multiprocessing/process.py\", line 314, in _bootstrap\n",
            "    self.run()\n",
            "  File \"/kaggle/working/project/third_party/ElegantRL/elegantrl/train/run.py\", line 385, in run\n",
            "    assert state.shape == (args.state_dim,)\n",
            "AssertionError\n",
            "Process Worker-20:\n",
            "Traceback (most recent call last):\n",
            "  File \"/opt/conda/lib/python3.10/multiprocessing/process.py\", line 314, in _bootstrap\n",
            "    self.run()\n",
            "  File \"/kaggle/working/project/third_party/ElegantRL/elegantrl/train/run.py\", line 385, in run\n",
            "    assert state.shape == (args.state_dim,)\n",
            "AssertionError\n"
          ]
        }
      ],
      "source": [
        "from elegantrl.train.run import train_agent\n",
        "\n",
        "train_agent(args)"
      ]
    },
    {
      "cell_type": "markdown",
      "metadata": {
        "id": "JPXOxLSqh5cP"
      },
      "source": [
        "Understanding the above results::\n",
        "*   **Step**: the total training steps.\n",
        "*  **MaxR**: the maximum reward.\n",
        "*   **avgR**: the average of the rewards.\n",
        "*   **stdR**: the standard deviation of the rewards.\n",
        "*   **objA**: the objective function value of Actor Network (Policy Network).\n",
        "*   **objC**: the objective function value (Q-value)  of Critic Network (Value Network)."
      ]
    }
  ],
  "metadata": {
    "accelerator": "GPU",
    "colab": {
      "name": "quickstart_Pendulum-v1.ipynb",
      "provenance": []
    },
    "kernelspec": {
      "display_name": "Python 3",
      "name": "python3"
    },
    "language_info": {
      "codemirror_mode": {
        "name": "ipython",
        "version": 3
      },
      "file_extension": ".py",
      "mimetype": "text/x-python",
      "name": "python",
      "nbconvert_exporter": "python",
      "pygments_lexer": "ipython3",
      "version": "3.10.6"
    }
  },
  "nbformat": 4,
  "nbformat_minor": 0
}
